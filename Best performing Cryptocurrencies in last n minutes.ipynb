{
 "cells": [
  {
   "cell_type": "code",
   "execution_count": 1,
   "id": "prescription-fitness",
   "metadata": {},
   "outputs": [],
   "source": [
    "import pandas as pd\n",
    "from tqdm import tqdm                               #progress bar\n",
    "from binance.client import Client"
   ]
  },
  {
   "cell_type": "code",
   "execution_count": 2,
   "id": "tested-commander",
   "metadata": {},
   "outputs": [],
   "source": [
    "client = Client()"
   ]
  },
  {
   "cell_type": "code",
   "execution_count": 3,
   "id": "upset-dictionary",
   "metadata": {},
   "outputs": [],
   "source": [
    "info = client.get_exchange_info()"
   ]
  },
  {
   "cell_type": "code",
   "execution_count": 4,
   "id": "crucial-transmission",
   "metadata": {},
   "outputs": [],
   "source": [
    "symbols = [x['symbol'] for x in info['symbols']]"
   ]
  },
  {
   "cell_type": "code",
   "execution_count": 5,
   "id": "employed-morocco",
   "metadata": {},
   "outputs": [],
   "source": [
    "#exclude leverage tokens\n",
    "exclude = ['UP', 'DOWN', 'BEAR', 'BULL']"
   ]
  },
  {
   "cell_type": "code",
   "execution_count": 6,
   "id": "maritime-device",
   "metadata": {},
   "outputs": [],
   "source": [
    "non_lev = [x for x in symbols if all(excludes not in x for excludes in exclude)]"
   ]
  },
  {
   "cell_type": "code",
   "execution_count": 7,
   "id": "bacterial-outline",
   "metadata": {},
   "outputs": [],
   "source": [
    "#relevant symbols with USDT\n",
    "relevant = [x for x in non_lev if x.endswith('USDT')]"
   ]
  },
  {
   "cell_type": "code",
   "execution_count": 8,
   "id": "anonymous-objective",
   "metadata": {},
   "outputs": [
    {
     "name": "stderr",
     "output_type": "stream",
     "text": [
      "100%|████████████████████████████████████████████████████████████████████████████████| 329/329 [01:33<00:00,  3.51it/s]\n"
     ]
    }
   ],
   "source": [
    "#price of each \"relevant\" crypto\n",
    "klines = {}\n",
    "\n",
    "for symbol in tqdm(relevant):\n",
    "    klines[symbol] = client.get_historical_klines(symbol, '1m', '1 hour ago UTC')"
   ]
  },
  {
   "cell_type": "code",
   "execution_count": 20,
   "id": "streaming-medicaid",
   "metadata": {},
   "outputs": [
    {
     "data": {
      "text/plain": [
       "-0.004570741979002313"
      ]
     },
     "execution_count": 20,
     "metadata": {},
     "output_type": "execute_result"
    }
   ],
   "source": [
    "(pd.DataFrame(klines['BTCUSDT'])[4].astype(float).pct_change() + 1).prod() - 1"
   ]
  },
  {
   "cell_type": "code",
   "execution_count": 23,
   "id": "apart-pollution",
   "metadata": {},
   "outputs": [],
   "source": [
    "returns, symbols = [], []\n",
    "\n",
    "for symbol in relevant:\n",
    "    if len(klines[symbol]) > 0:\n",
    "        cumret = (pd.DataFrame(klines[symbol])[4].astype(float).pct_change() + 1).prod() - 1\n",
    "        returns.append(cumret)\n",
    "        symbols.append(symbol)"
   ]
  },
  {
   "cell_type": "code",
   "execution_count": 26,
   "id": "ecological-evaluation",
   "metadata": {},
   "outputs": [
    {
     "data": {
      "text/html": [
       "<div>\n",
       "<style scoped>\n",
       "    .dataframe tbody tr th:only-of-type {\n",
       "        vertical-align: middle;\n",
       "    }\n",
       "\n",
       "    .dataframe tbody tr th {\n",
       "        vertical-align: top;\n",
       "    }\n",
       "\n",
       "    .dataframe thead th {\n",
       "        text-align: right;\n",
       "    }\n",
       "</style>\n",
       "<table border=\"1\" class=\"dataframe\">\n",
       "  <thead>\n",
       "    <tr style=\"text-align: right;\">\n",
       "      <th></th>\n",
       "      <th>Return</th>\n",
       "    </tr>\n",
       "  </thead>\n",
       "  <tbody>\n",
       "    <tr>\n",
       "      <th>BTCUSDT</th>\n",
       "      <td>-0.004571</td>\n",
       "    </tr>\n",
       "    <tr>\n",
       "      <th>ETHUSDT</th>\n",
       "      <td>-0.004023</td>\n",
       "    </tr>\n",
       "    <tr>\n",
       "      <th>BNBUSDT</th>\n",
       "      <td>-0.001821</td>\n",
       "    </tr>\n",
       "    <tr>\n",
       "      <th>NEOUSDT</th>\n",
       "      <td>-0.001961</td>\n",
       "    </tr>\n",
       "    <tr>\n",
       "      <th>LTCUSDT</th>\n",
       "      <td>-0.000672</td>\n",
       "    </tr>\n",
       "    <tr>\n",
       "      <th>...</th>\n",
       "      <td>...</td>\n",
       "    </tr>\n",
       "    <tr>\n",
       "      <th>USTUSDT</th>\n",
       "      <td>0.000000</td>\n",
       "    </tr>\n",
       "    <tr>\n",
       "      <th>JOEUSDT</th>\n",
       "      <td>0.005468</td>\n",
       "    </tr>\n",
       "    <tr>\n",
       "      <th>ACHUSDT</th>\n",
       "      <td>0.005130</td>\n",
       "    </tr>\n",
       "    <tr>\n",
       "      <th>IMXUSDT</th>\n",
       "      <td>-0.003332</td>\n",
       "    </tr>\n",
       "    <tr>\n",
       "      <th>GLMRUSDT</th>\n",
       "      <td>-0.015628</td>\n",
       "    </tr>\n",
       "  </tbody>\n",
       "</table>\n",
       "<p>311 rows × 1 columns</p>\n",
       "</div>"
      ],
      "text/plain": [
       "            Return\n",
       "BTCUSDT  -0.004571\n",
       "ETHUSDT  -0.004023\n",
       "BNBUSDT  -0.001821\n",
       "NEOUSDT  -0.001961\n",
       "LTCUSDT  -0.000672\n",
       "...            ...\n",
       "USTUSDT   0.000000\n",
       "JOEUSDT   0.005468\n",
       "ACHUSDT   0.005130\n",
       "IMXUSDT  -0.003332\n",
       "GLMRUSDT -0.015628\n",
       "\n",
       "[311 rows x 1 columns]"
      ]
     },
     "execution_count": 26,
     "metadata": {},
     "output_type": "execute_result"
    }
   ],
   "source": [
    "retdf = pd.DataFrame(returns, index = symbols, columns = ['Return']) \n",
    "retdf"
   ]
  },
  {
   "cell_type": "code",
   "execution_count": 29,
   "id": "automated-involvement",
   "metadata": {},
   "outputs": [
    {
     "data": {
      "text/plain": [
       "CVXUSDT      0.053378\n",
       "QUICKUSDT    0.040609\n",
       "RADUSDT      0.036398\n",
       "SYSUSDT      0.022918\n",
       "OMGUSDT      0.022640\n",
       "CHRUSDT      0.022596\n",
       "DUSKUSDT     0.022532\n",
       "DFUSDT       0.021382\n",
       "RAMPUSDT     0.018963\n",
       "AVAUSDT      0.015085\n",
       "Name: Return, dtype: float64"
      ]
     },
     "execution_count": 29,
     "metadata": {},
     "output_type": "execute_result"
    }
   ],
   "source": [
    "#Best performing cryptos\n",
    "retdf.Return.nlargest(10)"
   ]
  },
  {
   "cell_type": "code",
   "execution_count": null,
   "id": "governmental-chicago",
   "metadata": {},
   "outputs": [],
   "source": []
  }
 ],
 "metadata": {
  "kernelspec": {
   "display_name": "Python 3",
   "language": "python",
   "name": "python3"
  },
  "language_info": {
   "codemirror_mode": {
    "name": "ipython",
    "version": 3
   },
   "file_extension": ".py",
   "mimetype": "text/x-python",
   "name": "python",
   "nbconvert_exporter": "python",
   "pygments_lexer": "ipython3",
   "version": "3.9.1"
  }
 },
 "nbformat": 4,
 "nbformat_minor": 5
}
